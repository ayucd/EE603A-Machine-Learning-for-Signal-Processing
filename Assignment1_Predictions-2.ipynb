{
  "nbformat": 4,
  "nbformat_minor": 0,
  "metadata": {
    "colab": {
      "provenance": []
    },
    "kernelspec": {
      "name": "python3",
      "display_name": "Python 3"
    },
    "language_info": {
      "name": "python"
    }
  },
  "cells": [
    {
      "cell_type": "code",
      "execution_count": null,
      "metadata": {
        "colab": {
          "base_uri": "https://localhost:8080/"
        },
        "id": "KfYluI0OR5TR",
        "outputId": "8c188286-d2d4-407f-8224-afd6d10fc0d8"
      },
      "outputs": [
        {
          "output_type": "stream",
          "name": "stdout",
          "text": [
            "Drive already mounted at /content/drive; to attempt to forcibly remount, call drive.mount(\"/content/drive\", force_remount=True).\n"
          ]
        }
      ],
      "source": [
        "from google.colab import drive\n",
        "drive.mount('/content/drive')"
      ]
    },
    {
      "cell_type": "code",
      "source": [
        "%cd /content/drive/MyDrive/"
      ],
      "metadata": {
        "colab": {
          "base_uri": "https://localhost:8080/"
        },
        "id": "C-kJqG8mSE9w",
        "outputId": "d0244ec2-298d-4d25-8751-cbbfd94f8ce6"
      },
      "execution_count": null,
      "outputs": [
        {
          "output_type": "stream",
          "name": "stdout",
          "text": [
            "/content/drive/MyDrive\n"
          ]
        }
      ]
    },
    {
      "cell_type": "code",
      "source": [
        "# Importing the libraries\n",
        "import os\n",
        "import matplotlib\n",
        "import matplotlib.pyplot as plt\n",
        "%matplotlib inline\n",
        "import pathlib\n",
        "import math\n",
        "import numpy as np\n",
        "import pandas as pd\n",
        "import tensorflow as tf\n",
        "from glob import glob\n",
        "from tensorflow import keras\n",
        "from tensorflow.keras import layers\n",
        "from sklearn.metrics import accuracy_score, f1_score, confusion_matrix"
      ],
      "metadata": {
        "id": "QjUsJfCHSF2c"
      },
      "execution_count": null,
      "outputs": []
    },
    {
      "cell_type": "code",
      "source": [
        "# Loading test data\n",
        "loc_test = \"Assignment1_190221/Audio_Classification-MLSP-test/\"\n",
        "datafiles = glob(\"Assignment1_190221/Audio_Classification-MLSP-test/*\")\n",
        "filename = []\n",
        "testdata = []\n",
        "for d in datafiles:\n",
        "  testdata.append(np.load(d)[0])\n",
        "  filename.append(d[len(loc_test):])"
      ],
      "metadata": {
        "id": "ThAUI2iXSZw5"
      },
      "execution_count": null,
      "outputs": []
    },
    {
      "cell_type": "code",
      "source": [
        "# Loading the CNN model\n",
        "cnn = tf.keras.models.load_model('cnn')"
      ],
      "metadata": {
        "id": "-JqIQNvlSltQ"
      },
      "execution_count": null,
      "outputs": []
    },
    {
      "cell_type": "code",
      "source": [
        "encoder = {\"Walk_and_footsteps\": 0, \"Doorbell\": 1, \"Vehicle_horn_and_car_horn_and_honking\": 2, \"Microwave_oven\": 3, \"Crying_and_sobbing\": 4, \"Knock\": 5, \"Shatter\": 6, \"Siren\": 7, \"Meow\": 8, \"Bark\": 9}\n",
        "data = np.zeros((201, 128, 3000))\n",
        "length = []\n",
        "for i in range(201):\n",
        "  length.append(testdata[i].shape[-1]) \n",
        "  data[i, :, 0:testdata[i].shape[-1]] = testdata[i]"
      ],
      "metadata": {
        "id": "cSStp8QVS5kR"
      },
      "execution_count": null,
      "outputs": []
    },
    {
      "cell_type": "code",
      "source": [
        "print(len(testdata))"
      ],
      "metadata": {
        "colab": {
          "base_uri": "https://localhost:8080/"
        },
        "id": "lk7pJy9bT2eO",
        "outputId": "735d53a3-5af1-4de1-cc09-d6505d9a6e10"
      },
      "execution_count": null,
      "outputs": [
        {
          "output_type": "stream",
          "name": "stdout",
          "text": [
            "201\n"
          ]
        }
      ]
    },
    {
      "cell_type": "code",
      "source": [
        "test_length=length\n",
        "mean_length=593\n",
        "test_data=data"
      ],
      "metadata": {
        "id": "kgNjyM0qUtph"
      },
      "execution_count": null,
      "outputs": []
    },
    {
      "cell_type": "code",
      "source": [
        "for i in range(201):\n",
        "  # We define v that is the signal size of the i'th sample\n",
        "  v = test_length[i]\n",
        "  if v<mean_length:\n",
        "    test_length[i]=mean_length\n",
        "    while v<mean_length:\n",
        "      test_data[i, :, v:v+test_length[i]] = test_data[i, :, 0:test_length[i]]\n",
        "      v += test_length[i]"
      ],
      "metadata": {
        "id": "8wT04GRUUai9"
      },
      "execution_count": null,
      "outputs": []
    },
    {
      "cell_type": "code",
      "source": [
        "test_data = test_data[:, :, :mean_length]"
      ],
      "metadata": {
        "id": "ikJPwvJcU94j"
      },
      "execution_count": null,
      "outputs": []
    },
    {
      "cell_type": "code",
      "source": [
        "prediction = cnn.predict(test_data)\n",
        "label_pred = np.argmax(prediction, axis = 1)\n",
        "pred = []\n",
        "for p in label_pred:\n",
        "  cls = list(encoder.keys())[list(encoder.values()).index(p)]\n",
        "  pred.append(cls)"
      ],
      "metadata": {
        "id": "044AFxqjVvqz"
      },
      "execution_count": null,
      "outputs": []
    },
    {
      "cell_type": "code",
      "source": [
        "print(pred)"
      ],
      "metadata": {
        "colab": {
          "base_uri": "https://localhost:8080/"
        },
        "id": "F7zQIdwDWMia",
        "outputId": "2c9d52eb-fd2e-4d0c-fd8a-2fd1e1d72974"
      },
      "execution_count": null,
      "outputs": [
        {
          "output_type": "stream",
          "name": "stdout",
          "text": [
            "['Siren', 'Meow', 'Knock', 'Crying_and_sobbing', 'Shatter', 'Crying_and_sobbing', 'Microwave_oven', 'Walk_and_footsteps', 'Walk_and_footsteps', 'Crying_and_sobbing', 'Bark', 'Doorbell', 'Vehicle_horn_and_car_horn_and_honking', 'Shatter', 'Bark', 'Bark', 'Doorbell', 'Vehicle_horn_and_car_horn_and_honking', 'Walk_and_footsteps', 'Bark', 'Shatter', 'Siren', 'Microwave_oven', 'Doorbell', 'Siren', 'Knock', 'Microwave_oven', 'Meow', 'Bark', 'Walk_and_footsteps', 'Siren', 'Doorbell', 'Doorbell', 'Vehicle_horn_and_car_horn_and_honking', 'Knock', 'Meow', 'Doorbell', 'Shatter', 'Walk_and_footsteps', 'Knock', 'Siren', 'Vehicle_horn_and_car_horn_and_honking', 'Shatter', 'Doorbell', 'Vehicle_horn_and_car_horn_and_honking', 'Microwave_oven', 'Vehicle_horn_and_car_horn_and_honking', 'Shatter', 'Shatter', 'Knock', 'Vehicle_horn_and_car_horn_and_honking', 'Shatter', 'Microwave_oven', 'Vehicle_horn_and_car_horn_and_honking', 'Siren', 'Walk_and_footsteps', 'Meow', 'Knock', 'Walk_and_footsteps', 'Walk_and_footsteps', 'Knock', 'Vehicle_horn_and_car_horn_and_honking', 'Crying_and_sobbing', 'Microwave_oven', 'Knock', 'Walk_and_footsteps', 'Crying_and_sobbing', 'Meow', 'Siren', 'Siren', 'Shatter', 'Knock', 'Microwave_oven', 'Vehicle_horn_and_car_horn_and_honking', 'Vehicle_horn_and_car_horn_and_honking', 'Knock', 'Shatter', 'Knock', 'Knock', 'Knock', 'Vehicle_horn_and_car_horn_and_honking', 'Meow', 'Bark', 'Crying_and_sobbing', 'Walk_and_footsteps', 'Doorbell', 'Knock', 'Microwave_oven', 'Vehicle_horn_and_car_horn_and_honking', 'Siren', 'Siren', 'Walk_and_footsteps', 'Doorbell', 'Crying_and_sobbing', 'Knock', 'Walk_and_footsteps', 'Microwave_oven', 'Doorbell', 'Shatter', 'Walk_and_footsteps', 'Crying_and_sobbing', 'Microwave_oven', 'Microwave_oven', 'Vehicle_horn_and_car_horn_and_honking', 'Microwave_oven', 'Shatter', 'Knock', 'Microwave_oven', 'Shatter', 'Doorbell', 'Microwave_oven', 'Microwave_oven', 'Vehicle_horn_and_car_horn_and_honking', 'Microwave_oven', 'Microwave_oven', 'Crying_and_sobbing', 'Bark', 'Knock', 'Microwave_oven', 'Microwave_oven', 'Knock', 'Doorbell', 'Microwave_oven', 'Meow', 'Knock', 'Shatter', 'Meow', 'Vehicle_horn_and_car_horn_and_honking', 'Doorbell', 'Microwave_oven', 'Meow', 'Microwave_oven', 'Walk_and_footsteps', 'Vehicle_horn_and_car_horn_and_honking', 'Bark', 'Vehicle_horn_and_car_horn_and_honking', 'Doorbell', 'Bark', 'Microwave_oven', 'Meow', 'Vehicle_horn_and_car_horn_and_honking', 'Knock', 'Microwave_oven', 'Doorbell', 'Bark', 'Walk_and_footsteps', 'Walk_and_footsteps', 'Crying_and_sobbing', 'Doorbell', 'Microwave_oven', 'Walk_and_footsteps', 'Bark', 'Microwave_oven', 'Walk_and_footsteps', 'Knock', 'Walk_and_footsteps', 'Walk_and_footsteps', 'Vehicle_horn_and_car_horn_and_honking', 'Crying_and_sobbing', 'Meow', 'Vehicle_horn_and_car_horn_and_honking', 'Microwave_oven', 'Bark', 'Doorbell', 'Doorbell', 'Meow', 'Meow', 'Siren', 'Bark', 'Meow', 'Shatter', 'Knock', 'Bark', 'Shatter', 'Meow', 'Vehicle_horn_and_car_horn_and_honking', 'Siren', 'Microwave_oven', 'Bark', 'Microwave_oven', 'Meow', 'Bark', 'Microwave_oven', 'Walk_and_footsteps', 'Meow', 'Vehicle_horn_and_car_horn_and_honking', 'Doorbell', 'Doorbell', 'Siren', 'Siren', 'Vehicle_horn_and_car_horn_and_honking', 'Meow', 'Siren', 'Doorbell', 'Knock', 'Meow', 'Crying_and_sobbing', 'Doorbell', 'Knock', 'Doorbell', 'Meow']\n"
          ]
        }
      ]
    },
    {
      "cell_type": "code",
      "source": [
        "dataf = pd.DataFrame({\"fileid\": filename, \"prediction\": pred})"
      ],
      "metadata": {
        "id": "lK7GJhhJWgbA"
      },
      "execution_count": null,
      "outputs": []
    },
    {
      "cell_type": "code",
      "source": [
        "print(dataf)"
      ],
      "metadata": {
        "colab": {
          "base_uri": "https://localhost:8080/"
        },
        "id": "cO5gM0RmWy9C",
        "outputId": "4745a99d-9207-4881-aa19-684cb3cf0b87"
      },
      "execution_count": null,
      "outputs": [
        {
          "output_type": "stream",
          "name": "stdout",
          "text": [
            "                   fileid          prediction\n",
            "0       MLSP_test6118.npy               Siren\n",
            "1    MLSP_test1289164.npy                Meow\n",
            "2     MLSP_test968297.npy               Knock\n",
            "3     MLSP_test208923.npy  Crying_and_sobbing\n",
            "4    MLSP_test1820283.npy             Shatter\n",
            "..                    ...                 ...\n",
            "196  MLSP_test2108410.npy  Crying_and_sobbing\n",
            "197   MLSP_test683408.npy            Doorbell\n",
            "198   MLSP_test896150.npy               Knock\n",
            "199   MLSP_test536357.npy            Doorbell\n",
            "200  MLSP_test1277465.npy                Meow\n",
            "\n",
            "[201 rows x 2 columns]\n"
          ]
        }
      ]
    },
    {
      "cell_type": "code",
      "source": [
        "dataf.to_csv('predictions.csv')"
      ],
      "metadata": {
        "id": "dHo5j4fYXGya"
      },
      "execution_count": null,
      "outputs": []
    }
  ]
}