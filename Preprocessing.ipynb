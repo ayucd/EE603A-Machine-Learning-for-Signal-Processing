{
 "cells": [
  {
   "cell_type": "code",
   "execution_count": 8,
   "id": "ed5b8ff5",
   "metadata": {},
   "outputs": [],
   "source": [
    "import numpy as np"
   ]
  },
  {
   "cell_type": "markdown",
   "id": "c1fdf954",
   "metadata": {},
   "source": [
    "DATA PREPROCESSING FOR TRAINING"
   ]
  },
  {
   "cell_type": "code",
   "execution_count": null,
   "id": "f69abd70",
   "metadata": {},
   "outputs": [],
   "source": [
    "for b in range(10):\n",
    "    X = []\n",
    "    for i in range(1000*b, 1000*(1+b)):\n",
    "      l = np.load(\"dataset/X/melspec_\" + str(i) + \".npy\")\n",
    "      X.append(l)\n",
    "    X = np.concatenate(X, axis = 0)\n",
    "    Y = []\n",
    "    for i in range(1000*b, 1000*(1+b)):\n",
    "      l = np.load(\"dataset/Y/eventroll_\" + str(i) + \".npy\")\n",
    "      Y.append(np.expand_dims(l, axis = 0))\n",
    "    Y = np.concatenate(Y, axis = 0)\n",
    "    def eventroll_to_multihot_vector(eventroll):\n",
    "        \"\"\"\n",
    "        Parameters\n",
    "        ----------\n",
    "        eventroll : np.array\n",
    "            Eventroll matrix of shape=(11, 1000).\n",
    "\n",
    "        Returns\n",
    "        -------\n",
    "        np.array\n",
    "            A multihot vector of shape=(10,)\n",
    "        \"\"\"\n",
    "\n",
    "        # findout active events:\n",
    "        active_events = (eventroll.sum(axis=1) >= 0.5).astype('float')\n",
    "\n",
    "        # remove silence class:\n",
    "        return np.delete(active_events, 8)\n",
    "    labels = np.zeros([1000, 10])\n",
    "    for i in range(Y.shape[0]):\n",
    "      labels[i, :] = eventroll_to_multihot_vector(Y[i])\n",
    "    np.savez(\"data\" + str(b+1) + \".npz\", X = X, y = labels)"
   ]
  },
  {
   "cell_type": "markdown",
   "id": "a66f07de",
   "metadata": {},
   "source": [
    "DATA PREPROCESSING FOR TESTING"
   ]
  },
  {
   "cell_type": "code",
   "execution_count": 13,
   "id": "005ad5ca",
   "metadata": {},
   "outputs": [],
   "source": [
    "X = []\n",
    "for i in range(2500):\n",
    "  load = np.load(\"test/X/melspec_\" + str(i) + \".npy\")\n",
    "  X.append(load)\n",
    "X = np.concatenate(X, axis = 0)"
   ]
  },
  {
   "cell_type": "code",
   "execution_count": 14,
   "id": "d33d947e",
   "metadata": {},
   "outputs": [
    {
     "name": "stdout",
     "output_type": "stream",
     "text": [
      "(2500, 64, 1000)\n"
     ]
    }
   ],
   "source": [
    "print(X.shape)"
   ]
  },
  {
   "cell_type": "code",
   "execution_count": 15,
   "id": "00c4b29e",
   "metadata": {},
   "outputs": [],
   "source": [
    "np.savez(\"test.npz\", X=X)"
   ]
  },
  {
   "cell_type": "code",
   "execution_count": null,
   "id": "b8fd6693",
   "metadata": {},
   "outputs": [],
   "source": []
  }
 ],
 "metadata": {
  "kernelspec": {
   "display_name": "Python 3",
   "language": "python",
   "name": "python3"
  },
  "language_info": {
   "codemirror_mode": {
    "name": "ipython",
    "version": 3
   },
   "file_extension": ".py",
   "mimetype": "text/x-python",
   "name": "python",
   "nbconvert_exporter": "python",
   "pygments_lexer": "ipython3",
   "version": "3.8.8"
  }
 },
 "nbformat": 4,
 "nbformat_minor": 5
}
